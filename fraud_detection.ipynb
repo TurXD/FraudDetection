{
 "cells": [
  {
   "cell_type": "markdown",
   "id": "372bdc19",
   "metadata": {},
   "source": [
    "<i>Notebook Author: Trenton McKinney\n",
    "\n",
    "Course: DataCamp: Fraud Detection in Python\n",
    "\n",
    "This notebook was created as a reproducible reference.\n",
    "\n",
    "This exercise uses parts of McKinney's notebook. Some comments and questions have been added by RK."
   ]
  },
  {
   "cell_type": "markdown",
   "id": "25c8b120",
   "metadata": {},
   "source": []
  },
  {
   "cell_type": "markdown",
   "id": "ad4a53bf-64ed-4348-baeb-cc016576ba3d",
   "metadata": {},
   "source": [
    "<h4>Fraud detection with unlabeled data </h4>\n",
    "    \n",
    "We use bank payment transaction data. We first visualize the data and segment the customers. Then, we use K-means and DBSCAN clustering methods to find outliers, i.e., possible fraudulent occurences. \n",
    "    \n",
    "Fraud detection with unlabeled data is difficult for several reasons. It is difficult to validate and abnormal behavior is not necessary fraudulent. \n",
    "    \n",
    "We start by looking at the data to understand what is normal, what is abnormal and what kind of segmentation we should use. \n",
    "\n",
    "Then, we normalize the data and use K-means clustering. We try to find the optimal number of clusters. Once we have a suitable amount of clusters, we search the outliers. We test our assumption that outliers are fradulent transactions. \n",
    "\n",
    "Finally, we apply DBSCAN. We assume that the smallest clusters might contain data on fradulent transactions. We test our assumption with some labeled data. "
   ]
  },
  {
   "cell_type": "code",
   "execution_count": 1,
   "id": "1bae5d17-0299-4f93-9c1c-b2efe2e8b731",
   "metadata": {
    "tags": []
   },
   "outputs": [],
   "source": [
    "import pandas as pd\n",
    "import matplotlib.pyplot as plt\n",
    "from matplotlib.patches import Rectangle\n",
    "import numpy as np\n",
    "from pprint import pprint as pp\n",
    "import csv\n",
    "from pathlib import Path\n",
    "import seaborn as sns\n",
    "from itertools import product\n",
    "import string\n",
    "\n",
    "from imblearn.pipeline import Pipeline \n",
    "\n",
    "from sklearn.tree import DecisionTreeClassifier\n",
    "from sklearn.model_selection import train_test_split, GridSearchCV\n",
    "from sklearn.metrics import r2_score, classification_report, confusion_matrix, accuracy_score, roc_auc_score, roc_curve, precision_recall_curve, average_precision_score\n",
    "from sklearn.metrics import homogeneity_score, silhouette_score, ConfusionMatrixDisplay\n",
    "from sklearn.ensemble import RandomForestClassifier, VotingClassifier\n",
    "from sklearn.preprocessing import MinMaxScaler\n",
    "from sklearn.cluster import MiniBatchKMeans, DBSCAN"
   ]
  },
  {
   "cell_type": "code",
   "execution_count": 2,
   "id": "5246f026-09cf-4bbe-9804-52b3ed592265",
   "metadata": {
    "tags": []
   },
   "outputs": [],
   "source": [
    "pd.set_option('display.max_columns', 700)\n",
    "pd.set_option('display.max_rows', 400)\n",
    "pd.set_option('display.min_rows', 10)\n",
    "pd.set_option('display.expand_frame_repr', True)"
   ]
  },
  {
   "cell_type": "code",
   "execution_count": 5,
   "id": "1d898eaf-27b3-40bd-9187-9393e6c4065d",
   "metadata": {
    "tags": []
   },
   "outputs": [],
   "source": [
    "banksim_file = 'banksim.csv'\n",
    "banksim_adj_file ='banksim_adj.csv'"
   ]
  },
  {
   "cell_type": "markdown",
   "id": "6346795a-7618-4cb5-8b9a-e57799a31d58",
   "metadata": {},
   "source": [
    "We read the data from the files banksim_file and banksim_ad.\n",
    "Then, we try to understand from the data what is normal and what is abnormal. \n"
   ]
  },
  {
   "cell_type": "code",
   "execution_count": 6,
   "id": "b6f3900e-3ebd-4629-a996-ecf85f9f20e2",
   "metadata": {
    "tags": []
   },
   "outputs": [],
   "source": [
    "banksim_df = pd.read_csv(banksim_file, usecols=lambda x: x != 'Unnamed: 0')\n",
    "banksim_adj_df = pd.read_csv(banksim_adj_file, usecols=lambda x: x != 'Unnamed: 0')"
   ]
  },
  {
   "cell_type": "markdown",
   "id": "44afc263-970b-4e19-ae6c-18bc26fdaf05",
   "metadata": {},
   "source": [
    "Lets first print the shape and the first rows of both dataframes to see what data we have. "
   ]
  },
  {
   "cell_type": "code",
   "execution_count": 7,
   "id": "6cdfdf23-caa9-475f-a3e6-6bdf9e49957e",
   "metadata": {
    "tags": []
   },
   "outputs": [
    {
     "name": "stdout",
     "output_type": "stream",
     "text": [
      "(7200, 5)\n"
     ]
    },
    {
     "data": {
      "text/html": [
       "<div>\n",
       "<style scoped>\n",
       "    .dataframe tbody tr th:only-of-type {\n",
       "        vertical-align: middle;\n",
       "    }\n",
       "\n",
       "    .dataframe tbody tr th {\n",
       "        vertical-align: top;\n",
       "    }\n",
       "\n",
       "    .dataframe thead th {\n",
       "        text-align: right;\n",
       "    }\n",
       "</style>\n",
       "<table border=\"1\" class=\"dataframe\">\n",
       "  <thead>\n",
       "    <tr style=\"text-align: right;\">\n",
       "      <th></th>\n",
       "      <th>age</th>\n",
       "      <th>gender</th>\n",
       "      <th>category</th>\n",
       "      <th>amount</th>\n",
       "      <th>fraud</th>\n",
       "    </tr>\n",
       "  </thead>\n",
       "  <tbody>\n",
       "    <tr>\n",
       "      <th>0</th>\n",
       "      <td>3</td>\n",
       "      <td>F</td>\n",
       "      <td>es_transportation</td>\n",
       "      <td>49.71</td>\n",
       "      <td>0</td>\n",
       "    </tr>\n",
       "    <tr>\n",
       "      <th>1</th>\n",
       "      <td>4</td>\n",
       "      <td>F</td>\n",
       "      <td>es_health</td>\n",
       "      <td>39.29</td>\n",
       "      <td>0</td>\n",
       "    </tr>\n",
       "    <tr>\n",
       "      <th>2</th>\n",
       "      <td>3</td>\n",
       "      <td>F</td>\n",
       "      <td>es_transportation</td>\n",
       "      <td>18.76</td>\n",
       "      <td>0</td>\n",
       "    </tr>\n",
       "    <tr>\n",
       "      <th>3</th>\n",
       "      <td>4</td>\n",
       "      <td>M</td>\n",
       "      <td>es_transportation</td>\n",
       "      <td>13.95</td>\n",
       "      <td>0</td>\n",
       "    </tr>\n",
       "    <tr>\n",
       "      <th>4</th>\n",
       "      <td>2</td>\n",
       "      <td>M</td>\n",
       "      <td>es_transportation</td>\n",
       "      <td>49.87</td>\n",
       "      <td>0</td>\n",
       "    </tr>\n",
       "  </tbody>\n",
       "</table>\n",
       "</div>"
      ],
      "text/plain": [
       "  age gender           category  amount  fraud\n",
       "0   3      F  es_transportation   49.71      0\n",
       "1   4      F          es_health   39.29      0\n",
       "2   3      F  es_transportation   18.76      0\n",
       "3   4      M  es_transportation   13.95      0\n",
       "4   2      M  es_transportation   49.87      0"
      ]
     },
     "execution_count": 7,
     "metadata": {},
     "output_type": "execute_result"
    }
   ],
   "source": [
    "# print the shape and the first rows of both dataframes\n",
    "print(banksim_df.shape)\n",
    "banksim_df.head()"
   ]
  },
  {
   "cell_type": "code",
   "execution_count": 8,
   "id": "dd97965f-c3fb-46cf-8b09-f048b2133753",
   "metadata": {
    "tags": []
   },
   "outputs": [
    {
     "name": "stdout",
     "output_type": "stream",
     "text": [
      "(7189, 18)\n"
     ]
    },
    {
     "data": {
      "text/html": [
       "<div>\n",
       "<style scoped>\n",
       "    .dataframe tbody tr th:only-of-type {\n",
       "        vertical-align: middle;\n",
       "    }\n",
       "\n",
       "    .dataframe tbody tr th {\n",
       "        vertical-align: top;\n",
       "    }\n",
       "\n",
       "    .dataframe thead th {\n",
       "        text-align: right;\n",
       "    }\n",
       "</style>\n",
       "<table border=\"1\" class=\"dataframe\">\n",
       "  <thead>\n",
       "    <tr style=\"text-align: right;\">\n",
       "      <th></th>\n",
       "      <th>age</th>\n",
       "      <th>amount</th>\n",
       "      <th>fraud</th>\n",
       "      <th>M</th>\n",
       "      <th>es_barsandrestaurants</th>\n",
       "      <th>es_contents</th>\n",
       "      <th>es_fashion</th>\n",
       "      <th>es_food</th>\n",
       "      <th>es_health</th>\n",
       "      <th>es_home</th>\n",
       "      <th>es_hotelservices</th>\n",
       "      <th>es_hyper</th>\n",
       "      <th>es_leisure</th>\n",
       "      <th>es_otherservices</th>\n",
       "      <th>es_sportsandtoys</th>\n",
       "      <th>es_tech</th>\n",
       "      <th>es_transportation</th>\n",
       "      <th>es_travel</th>\n",
       "    </tr>\n",
       "  </thead>\n",
       "  <tbody>\n",
       "    <tr>\n",
       "      <th>0</th>\n",
       "      <td>3</td>\n",
       "      <td>49.71</td>\n",
       "      <td>0</td>\n",
       "      <td>0</td>\n",
       "      <td>0</td>\n",
       "      <td>0</td>\n",
       "      <td>0</td>\n",
       "      <td>0</td>\n",
       "      <td>0</td>\n",
       "      <td>0</td>\n",
       "      <td>0</td>\n",
       "      <td>0</td>\n",
       "      <td>0</td>\n",
       "      <td>0</td>\n",
       "      <td>0</td>\n",
       "      <td>0</td>\n",
       "      <td>1</td>\n",
       "      <td>0</td>\n",
       "    </tr>\n",
       "    <tr>\n",
       "      <th>1</th>\n",
       "      <td>4</td>\n",
       "      <td>39.29</td>\n",
       "      <td>0</td>\n",
       "      <td>0</td>\n",
       "      <td>0</td>\n",
       "      <td>0</td>\n",
       "      <td>0</td>\n",
       "      <td>0</td>\n",
       "      <td>1</td>\n",
       "      <td>0</td>\n",
       "      <td>0</td>\n",
       "      <td>0</td>\n",
       "      <td>0</td>\n",
       "      <td>0</td>\n",
       "      <td>0</td>\n",
       "      <td>0</td>\n",
       "      <td>0</td>\n",
       "      <td>0</td>\n",
       "    </tr>\n",
       "    <tr>\n",
       "      <th>2</th>\n",
       "      <td>3</td>\n",
       "      <td>18.76</td>\n",
       "      <td>0</td>\n",
       "      <td>0</td>\n",
       "      <td>0</td>\n",
       "      <td>0</td>\n",
       "      <td>0</td>\n",
       "      <td>0</td>\n",
       "      <td>0</td>\n",
       "      <td>0</td>\n",
       "      <td>0</td>\n",
       "      <td>0</td>\n",
       "      <td>0</td>\n",
       "      <td>0</td>\n",
       "      <td>0</td>\n",
       "      <td>0</td>\n",
       "      <td>1</td>\n",
       "      <td>0</td>\n",
       "    </tr>\n",
       "    <tr>\n",
       "      <th>3</th>\n",
       "      <td>4</td>\n",
       "      <td>13.95</td>\n",
       "      <td>0</td>\n",
       "      <td>1</td>\n",
       "      <td>0</td>\n",
       "      <td>0</td>\n",
       "      <td>0</td>\n",
       "      <td>0</td>\n",
       "      <td>0</td>\n",
       "      <td>0</td>\n",
       "      <td>0</td>\n",
       "      <td>0</td>\n",
       "      <td>0</td>\n",
       "      <td>0</td>\n",
       "      <td>0</td>\n",
       "      <td>0</td>\n",
       "      <td>1</td>\n",
       "      <td>0</td>\n",
       "    </tr>\n",
       "    <tr>\n",
       "      <th>4</th>\n",
       "      <td>2</td>\n",
       "      <td>49.87</td>\n",
       "      <td>0</td>\n",
       "      <td>1</td>\n",
       "      <td>0</td>\n",
       "      <td>0</td>\n",
       "      <td>0</td>\n",
       "      <td>0</td>\n",
       "      <td>0</td>\n",
       "      <td>0</td>\n",
       "      <td>0</td>\n",
       "      <td>0</td>\n",
       "      <td>0</td>\n",
       "      <td>0</td>\n",
       "      <td>0</td>\n",
       "      <td>0</td>\n",
       "      <td>1</td>\n",
       "      <td>0</td>\n",
       "    </tr>\n",
       "  </tbody>\n",
       "</table>\n",
       "</div>"
      ],
      "text/plain": [
       "   age  amount  fraud  M  es_barsandrestaurants  es_contents  es_fashion  \\\n",
       "0    3   49.71      0  0                      0            0           0   \n",
       "1    4   39.29      0  0                      0            0           0   \n",
       "2    3   18.76      0  0                      0            0           0   \n",
       "3    4   13.95      0  1                      0            0           0   \n",
       "4    2   49.87      0  1                      0            0           0   \n",
       "\n",
       "   es_food  es_health  es_home  es_hotelservices  es_hyper  es_leisure  \\\n",
       "0        0          0        0                 0         0           0   \n",
       "1        0          1        0                 0         0           0   \n",
       "2        0          0        0                 0         0           0   \n",
       "3        0          0        0                 0         0           0   \n",
       "4        0          0        0                 0         0           0   \n",
       "\n",
       "   es_otherservices  es_sportsandtoys  es_tech  es_transportation  es_travel  \n",
       "0                 0                 0        0                  1          0  \n",
       "1                 0                 0        0                  0          0  \n",
       "2                 0                 0        0                  1          0  \n",
       "3                 0                 0        0                  1          0  \n",
       "4                 0                 0        0                  1          0  "
      ]
     },
     "execution_count": 8,
     "metadata": {},
     "output_type": "execute_result"
    }
   ],
   "source": [
    "print(banksim_adj_df.shape)\n",
    "banksim_adj_df.head()"
   ]
  },
  {
   "cell_type": "markdown",
   "id": "6cfdb9e8-474c-48aa-abb5-158ee60adcea",
   "metadata": {},
   "source": [
    "Some transactions are labeled as fraud. We group the data of banksim_df by transaction category ('category') and take the mean of the data.\n",
    "You can use the method 'df.groupby'. The correct piece of code is in the end of this exercise."
   ]
  },
  {
   "cell_type": "code",
   "execution_count": 9,
   "id": "c54c764a-b9c6-426d-a8b2-46f791500888",
   "metadata": {
    "tags": []
   },
   "outputs": [
    {
     "data": {
      "text/html": [
       "<div>\n",
       "<style scoped>\n",
       "    .dataframe tbody tr th:only-of-type {\n",
       "        vertical-align: middle;\n",
       "    }\n",
       "\n",
       "    .dataframe tbody tr th {\n",
       "        vertical-align: top;\n",
       "    }\n",
       "\n",
       "    .dataframe thead th {\n",
       "        text-align: right;\n",
       "    }\n",
       "</style>\n",
       "<table border=\"1\" class=\"dataframe\">\n",
       "  <thead>\n",
       "    <tr style=\"text-align: right;\">\n",
       "      <th></th>\n",
       "      <th>amount</th>\n",
       "      <th>fraud</th>\n",
       "    </tr>\n",
       "    <tr>\n",
       "      <th>category</th>\n",
       "      <th></th>\n",
       "      <th></th>\n",
       "    </tr>\n",
       "  </thead>\n",
       "  <tbody>\n",
       "    <tr>\n",
       "      <th>es_barsandrestaurants</th>\n",
       "      <td>43.841793</td>\n",
       "      <td>0.022472</td>\n",
       "    </tr>\n",
       "    <tr>\n",
       "      <th>es_contents</th>\n",
       "      <td>55.170000</td>\n",
       "      <td>0.000000</td>\n",
       "    </tr>\n",
       "    <tr>\n",
       "      <th>es_fashion</th>\n",
       "      <td>59.780769</td>\n",
       "      <td>0.020619</td>\n",
       "    </tr>\n",
       "    <tr>\n",
       "      <th>es_food</th>\n",
       "      <td>35.216050</td>\n",
       "      <td>0.000000</td>\n",
       "    </tr>\n",
       "    <tr>\n",
       "      <th>es_health</th>\n",
       "      <td>126.604704</td>\n",
       "      <td>0.242798</td>\n",
       "    </tr>\n",
       "    <tr>\n",
       "      <th>es_home</th>\n",
       "      <td>120.688317</td>\n",
       "      <td>0.208333</td>\n",
       "    </tr>\n",
       "    <tr>\n",
       "      <th>es_hotelservices</th>\n",
       "      <td>172.756245</td>\n",
       "      <td>0.548387</td>\n",
       "    </tr>\n",
       "    <tr>\n",
       "      <th>es_hyper</th>\n",
       "      <td>46.788180</td>\n",
       "      <td>0.125000</td>\n",
       "    </tr>\n",
       "    <tr>\n",
       "      <th>es_leisure</th>\n",
       "      <td>229.757600</td>\n",
       "      <td>1.000000</td>\n",
       "    </tr>\n",
       "    <tr>\n",
       "      <th>es_otherservices</th>\n",
       "      <td>149.648960</td>\n",
       "      <td>0.600000</td>\n",
       "    </tr>\n",
       "    <tr>\n",
       "      <th>es_sportsandtoys</th>\n",
       "      <td>157.251737</td>\n",
       "      <td>0.657895</td>\n",
       "    </tr>\n",
       "    <tr>\n",
       "      <th>es_tech</th>\n",
       "      <td>132.852862</td>\n",
       "      <td>0.179487</td>\n",
       "    </tr>\n",
       "    <tr>\n",
       "      <th>es_transportation</th>\n",
       "      <td>27.422014</td>\n",
       "      <td>0.000000</td>\n",
       "    </tr>\n",
       "    <tr>\n",
       "      <th>es_travel</th>\n",
       "      <td>231.818656</td>\n",
       "      <td>0.944444</td>\n",
       "    </tr>\n",
       "    <tr>\n",
       "      <th>es_wellnessandbeauty</th>\n",
       "      <td>66.167078</td>\n",
       "      <td>0.060606</td>\n",
       "    </tr>\n",
       "  </tbody>\n",
       "</table>\n",
       "</div>"
      ],
      "text/plain": [
       "                           amount     fraud\n",
       "category                                   \n",
       "es_barsandrestaurants   43.841793  0.022472\n",
       "es_contents             55.170000  0.000000\n",
       "es_fashion              59.780769  0.020619\n",
       "es_food                 35.216050  0.000000\n",
       "es_health              126.604704  0.242798\n",
       "es_home                120.688317  0.208333\n",
       "es_hotelservices       172.756245  0.548387\n",
       "es_hyper                46.788180  0.125000\n",
       "es_leisure             229.757600  1.000000\n",
       "es_otherservices       149.648960  0.600000\n",
       "es_sportsandtoys       157.251737  0.657895\n",
       "es_tech                132.852862  0.179487\n",
       "es_transportation       27.422014  0.000000\n",
       "es_travel              231.818656  0.944444\n",
       "es_wellnessandbeauty    66.167078  0.060606"
      ]
     },
     "execution_count": 9,
     "metadata": {},
     "output_type": "execute_result"
    }
   ],
   "source": [
    "# group the data here\n",
    "banksim_df.groupby('category').agg({'amount': 'mean', 'fraud': 'mean'})"
   ]
  },
  {
   "cell_type": "markdown",
   "id": "67e8ce7c-81ef-449b-9e37-83a8f026a455",
   "metadata": {},
   "source": [
    "Q: according to the results, in which categories do the majority of fraud occur?\n"
   ]
  },
  {
   "cell_type": "markdown",
   "id": "97b30c6c-940a-4874-8723-e826f0cd6b49",
   "metadata": {},
   "source": [
    "Leisure and travel have the highest fraud occurance"
   ]
  },
  {
   "cell_type": "markdown",
   "id": "cb23121c-1744-4310-8e03-36cb0e852d79",
   "metadata": {},
   "source": [
    "We then do customer segmentation. Unfortunately, there is not much information availabe. We group the data of banksim_df by age and compute the mean of each 6 age group. "
   ]
  },
  {
   "cell_type": "code",
   "execution_count": 10,
   "id": "5606c229-0dca-4c4a-9eae-3cfc57cc613a",
   "metadata": {
    "tags": []
   },
   "outputs": [
    {
     "data": {
      "text/html": [
       "<div>\n",
       "<style scoped>\n",
       "    .dataframe tbody tr th:only-of-type {\n",
       "        vertical-align: middle;\n",
       "    }\n",
       "\n",
       "    .dataframe tbody tr th {\n",
       "        vertical-align: top;\n",
       "    }\n",
       "\n",
       "    .dataframe thead th {\n",
       "        text-align: right;\n",
       "    }\n",
       "</style>\n",
       "<table border=\"1\" class=\"dataframe\">\n",
       "  <thead>\n",
       "    <tr style=\"text-align: right;\">\n",
       "      <th></th>\n",
       "      <th>amount</th>\n",
       "      <th>fraud</th>\n",
       "    </tr>\n",
       "    <tr>\n",
       "      <th>age</th>\n",
       "      <th></th>\n",
       "      <th></th>\n",
       "    </tr>\n",
       "  </thead>\n",
       "  <tbody>\n",
       "    <tr>\n",
       "      <th>0</th>\n",
       "      <td>49.468935</td>\n",
       "      <td>0.050000</td>\n",
       "    </tr>\n",
       "    <tr>\n",
       "      <th>1</th>\n",
       "      <td>35.622829</td>\n",
       "      <td>0.026648</td>\n",
       "    </tr>\n",
       "    <tr>\n",
       "      <th>2</th>\n",
       "      <td>37.228665</td>\n",
       "      <td>0.028718</td>\n",
       "    </tr>\n",
       "    <tr>\n",
       "      <th>3</th>\n",
       "      <td>37.279338</td>\n",
       "      <td>0.023283</td>\n",
       "    </tr>\n",
       "    <tr>\n",
       "      <th>4</th>\n",
       "      <td>36.197985</td>\n",
       "      <td>0.035966</td>\n",
       "    </tr>\n",
       "    <tr>\n",
       "      <th>5</th>\n",
       "      <td>37.547521</td>\n",
       "      <td>0.023990</td>\n",
       "    </tr>\n",
       "    <tr>\n",
       "      <th>6</th>\n",
       "      <td>36.700852</td>\n",
       "      <td>0.022293</td>\n",
       "    </tr>\n",
       "    <tr>\n",
       "      <th>U</th>\n",
       "      <td>39.117000</td>\n",
       "      <td>0.000000</td>\n",
       "    </tr>\n",
       "  </tbody>\n",
       "</table>\n",
       "</div>"
      ],
      "text/plain": [
       "        amount     fraud\n",
       "age                     \n",
       "0    49.468935  0.050000\n",
       "1    35.622829  0.026648\n",
       "2    37.228665  0.028718\n",
       "3    37.279338  0.023283\n",
       "4    36.197985  0.035966\n",
       "5    37.547521  0.023990\n",
       "6    36.700852  0.022293\n",
       "U    39.117000  0.000000"
      ]
     },
     "execution_count": 10,
     "metadata": {},
     "output_type": "execute_result"
    }
   ],
   "source": [
    "# group here\n",
    "banksim_df.groupby('age').agg({'amount': 'mean', 'fraud': 'mean'})"
   ]
  },
  {
   "cell_type": "markdown",
   "id": "8300737a-e6a2-42ad-985d-1bf4c622d6b6",
   "metadata": {},
   "source": [
    "Then, we count the values of each age group. You can use 'value_counts'. "
   ]
  },
  {
   "cell_type": "code",
   "execution_count": 11,
   "id": "b2eb7bda-c2a7-4ac8-96a6-09f5bdb19185",
   "metadata": {
    "tags": []
   },
   "outputs": [
    {
     "data": {
      "text/plain": [
       "age\n",
       "2    2333\n",
       "3    1718\n",
       "4    1279\n",
       "5     792\n",
       "1     713\n",
       "6     314\n",
       "0      40\n",
       "U      11\n",
       "Name: count, dtype: int64"
      ]
     },
     "execution_count": 11,
     "metadata": {},
     "output_type": "execute_result"
    }
   ],
   "source": [
    "banksim_df.age.value_counts()"
   ]
  },
  {
   "cell_type": "markdown",
   "id": "a41399de-b2af-43c4-aba7-cf3e0fe745f3",
   "metadata": {},
   "source": [
    "Q: based on the results, there is no reason to split the data. Explain why. Look at both of the two boxes above. "
   ]
  },
  {
   "cell_type": "markdown",
   "id": "52d8d9eb-424d-4055-803f-402c13364e5b",
   "metadata": {},
   "source": [
    "In all the age groups, amount spent and average fraud is roughly similar so we dont know how to cluster them."
   ]
  },
  {
   "cell_type": "markdown",
   "id": "731e6b4e-0f99-41d7-a3b9-22b5192efc09",
   "metadata": {},
   "source": [
    "We then use statistics to define normal behavior. \n",
    "\n",
    "We create two dataframes with fraud and non-fraud data from banksim_df. This piece of code is in the end of the exercise as it is so crucial. We plot two histograms, using df_fraud.amount and df_non_fraud.amount. "
   ]
  },
  {
   "cell_type": "code",
   "execution_count": 12,
   "id": "de5a8da6-785f-42b9-ac29-9b53112d775d",
   "metadata": {
    "tags": []
   },
   "outputs": [
    {
     "data": {
      "image/png": "[encoded data removed]",
      "text/plain": [
       "<Figure size 640x480 with 1 Axes>"
      ]
     },
     "metadata": {},
     "output_type": "display_data"
    }
   ],
   "source": [
    "# Create two dataframes with fraud and non-fraud data \n",
    "df_fraud = banksim_df[banksim_df.fraud == 1] \n",
    "df_non_fraud = banksim_df[banksim_df.fraud == 0]\n",
    "\n",
    "# Plot histograms of the amounts in fraud and non-fraud data \n",
    "plt.hist(df_fraud.amount, alpha=0.5, label='fraud')\n",
    "plt.hist(df_non_fraud.amount, alpha=0.5, label='nonfraud')\n",
    "plt.xlabel('amount')\n",
    "plt.legend()\n",
    "plt.show()"
   ]
  },
  {
   "cell_type": "markdown",
   "id": "8b9ee26f-a5ac-4237-80a1-ea4e9b37ee5f",
   "metadata": {},
   "source": [
    "Q: Look at the histograms. What can you say about the fradulent transactions, based on the x-axis (amount of money)?"
   ]
  },
  {
   "cell_type": "markdown",
   "id": "56acbc87-2709-4cc0-9170-d0c081630ec5",
   "metadata": {},
   "source": [
    "The histogram is skewed to the left. Fraud occurs for small amounts of money a lot more."
   ]
  },
  {
   "cell_type": "markdown",
   "id": "165a4f35-6477-49ee-805b-dd37c64fcc18",
   "metadata": {},
   "source": [
    "Clustering to detect fraud\n",
    "\n",
    "We transform the dataframe banksim_adj_df into a numpy array X by taking only the values of df and make sure you have all float values.\n",
    "We apply the defined scaler onto X to obtain scaled values of X_scaled to force all your features to a 0-1 scale.\n",
    "We store the fraud labels separately under 'labels'."
   ]
  },
  {
   "cell_type": "code",
   "execution_count": 13,
   "id": "4594fca1-5b73-4f28-bffd-bcd526264057",
   "metadata": {
    "tags": []
   },
   "outputs": [],
   "source": [
    "labels = banksim_adj_df.fraud"
   ]
  },
  {
   "cell_type": "code",
   "execution_count": 14,
   "id": "dd7d7ff6-699d-4b77-85eb-4da0c61cd5f4",
   "metadata": {
    "tags": []
   },
   "outputs": [
    {
     "data": {
      "text/plain": [
       "(7189, 17)"
      ]
     },
     "execution_count": 14,
     "metadata": {},
     "output_type": "execute_result"
    }
   ],
   "source": [
    "# Take the float values of df for X\n",
    "X = banksim_adj_df.drop(columns=['fraud']).values.astype(float)\n",
    " \n",
    "X.shape"
   ]
  },
  {
   "cell_type": "markdown",
   "id": "542a9d75-e07c-4f67-82f5-b6630a12ccf7",
   "metadata": {},
   "source": [
    "Lets then define the scaler MinMaxScaler() to X to obtain scaled values of X_scaled."
   ]
  },
  {
   "cell_type": "code",
   "execution_count": 15,
   "id": "d750657a-7a52-4342-82d1-6df114d743d4",
   "metadata": {
    "tags": []
   },
   "outputs": [],
   "source": [
    "# Define the scaler and apply to the data\n",
    "scaler = MinMaxScaler()\n",
    "X_scaled = scaler.fit_transform(X)"
   ]
  },
  {
   "cell_type": "markdown",
   "id": "d04b7e10-4ad9-49a8-b3f6-d4449ffd299c",
   "metadata": {},
   "source": [
    "K-mean clustering"
   ]
  },
  {
   "cell_type": "markdown",
   "id": "1ddc2d80-6389-4451-bcf3-58a69e6e83aa",
   "metadata": {},
   "source": [
    "Initialize the minibatch kmeans model with 8 clusters. You can set random_state=0\n",
    "Fit the model to your scaled data."
   ]
  },
  {
   "cell_type": "code",
   "execution_count": 16,
   "id": "dbb49b31-db8d-4ae0-863d-a129eec69c74",
   "metadata": {
    "tags": []
   },
   "outputs": [
    {
     "name": "stderr",
     "output_type": "stream",
     "text": [
      "/opt/software/lib/python3.10/site-packages/sklearn/cluster/_kmeans.py:1934: FutureWarning: The default value of `n_init` will change from 3 to 'auto' in 1.4. Set the value of `n_init` explicitly to suppress the warning\n",
      "  super()._check_params_vs_input(X, default_n_init=3)\n"
     ]
    },
    {
     "data": {
      "text/html": [
       "<style>#sk-container-id-1 {color: black;}#sk-container-id-1 pre{padding: 0;}#sk-container-id-1 div.sk-toggleable {background-color: white;}#sk-container-id-1 label.sk-toggleable__label {cursor: pointer;display: block;width: 100%;margin-bottom: 0;padding: 0.3em;box-sizing: border-box;text-align: center;}#sk-container-id-1 label.sk-toggleable__label-arrow:before {content: \"▸\";float: left;margin-right: 0.25em;color: #696969;}#sk-container-id-1 label.sk-toggleable__label-arrow:hover:before {color: black;}#sk-container-id-1 div.sk-estimator:hover label.sk-toggleable__label-arrow:before {color: black;}#sk-container-id-1 div.sk-toggleable__content {max-height: 0;max-width: 0;overflow: hidden;text-align: left;background-color: #f0f8ff;}#sk-container-id-1 div.sk-toggleable__content pre {margin: 0.2em;color: black;border-radius: 0.25em;background-color: #f0f8ff;}#sk-container-id-1 input.sk-toggleable__control:checked~div.sk-toggleable__content {max-height: 200px;max-width: 100%;overflow: auto;}#sk-container-id-1 input.sk-toggleable__control:checked~label.sk-toggleable__label-arrow:before {content: \"▾\";}#sk-container-id-1 div.sk-estimator input.sk-toggleable__control:checked~label.sk-toggleable__label {background-color: #d4ebff;}#sk-container-id-1 div.sk-label input.sk-toggleable__control:checked~label.sk-toggleable__label {background-color: #d4ebff;}#sk-container-id-1 input.sk-hidden--visually {border: 0;clip: rect(1px 1px 1px 1px);clip: rect(1px, 1px, 1px, 1px);height: 1px;margin: -1px;overflow: hidden;padding: 0;position: absolute;width: 1px;}#sk-container-id-1 div.sk-estimator {font-family: monospace;background-color: #f0f8ff;border: 1px dotted black;border-radius: 0.25em;box-sizing: border-box;margin-bottom: 0.5em;}#sk-container-id-1 div.sk-estimator:hover {background-color: #d4ebff;}#sk-container-id-1 div.sk-parallel-item::after {content: \"\";width: 100%;border-bottom: 1px solid gray;flex-grow: 1;}#sk-container-id-1 div.sk-label:hover label.sk-toggleable__label {background-color: #d4ebff;}#sk-container-id-1 div.sk-serial::before {content: \"\";position: absolute;border-left: 1px solid gray;box-sizing: border-box;top: 0;bottom: 0;left: 50%;z-index: 0;}#sk-container-id-1 div.sk-serial {display: flex;flex-direction: column;align-items: center;background-color: white;padding-right: 0.2em;padding-left: 0.2em;position: relative;}#sk-container-id-1 div.sk-item {position: relative;z-index: 1;}#sk-container-id-1 div.sk-parallel {display: flex;align-items: stretch;justify-content: center;background-color: white;position: relative;}#sk-container-id-1 div.sk-item::before, #sk-container-id-1 div.sk-parallel-item::before {content: \"\";position: absolute;border-left: 1px solid gray;box-sizing: border-box;top: 0;bottom: 0;left: 50%;z-index: -1;}#sk-container-id-1 div.sk-parallel-item {display: flex;flex-direction: column;z-index: 1;position: relative;background-color: white;}#sk-container-id-1 div.sk-parallel-item:first-child::after {align-self: flex-end;width: 50%;}#sk-container-id-1 div.sk-parallel-item:last-child::after {align-self: flex-start;width: 50%;}#sk-container-id-1 div.sk-parallel-item:only-child::after {width: 0;}#sk-container-id-1 div.sk-dashed-wrapped {border: 1px dashed gray;margin: 0 0.4em 0.5em 0.4em;box-sizing: border-box;padding-bottom: 0.4em;background-color: white;}#sk-container-id-1 div.sk-label label {font-family: monospace;font-weight: bold;display: inline-block;line-height: 1.2em;}#sk-container-id-1 div.sk-label-container {text-align: center;}#sk-container-id-1 div.sk-container {/* jupyter's `normalize.less` sets `[hidden] { display: none; }` but bootstrap.min.css set `[hidden] { display: none !important; }` so we also need the `!important` here to be able to override the default hidden behavior on the sphinx rendered scikit-learn.org. See: https://github.com/scikit-learn/scikit-learn/issues/21755 */display: inline-block !important;position: relative;}#sk-container-id-1 div.sk-text-repr-fallback {display: none;}</style><div id=\"sk-container-id-1\" class=\"sk-top-container\"><div class=\"sk-text-repr-fallback\"><pre>MiniBatchKMeans(random_state=0)</pre><b>In a Jupyter environment, please rerun this cell to show the HTML representation or trust the notebook. <br />On GitHub, the HTML representation is unable to render, please try loading this page with nbviewer.org.</b></div><div class=\"sk-container\" hidden><div class=\"sk-item\"><div class=\"sk-estimator sk-toggleable\"><input class=\"sk-toggleable__control sk-hidden--visually\" id=\"sk-estimator-id-1\" type=\"checkbox\" checked><label for=\"sk-estimator-id-1\" class=\"sk-toggleable__label sk-toggleable__label-arrow\">MiniBatchKMeans</label><div class=\"sk-toggleable__content\"><pre>MiniBatchKMeans(random_state=0)</pre></div></div></div></div></div>"
      ],
      "text/plain": [
       "MiniBatchKMeans(random_state=0)"
      ]
     },
     "execution_count": 16,
     "metadata": {},
     "output_type": "execute_result"
    }
   ],
   "source": [
    "# Define the model \n",
    "kmeans = MiniBatchKMeans(n_clusters=8, random_state=0, max_no_improvement=10)\n",
    "\n",
    "# Fit the model to the scaled data\n",
    "kmeans.fit(X_scaled)"
   ]
  },
  {
   "cell_type": "markdown",
   "id": "287d86c5-8213-4b95-8bdc-94aa6a6ceb1f",
   "metadata": {},
   "source": [
    "Then, we want to know the optimal number of clusters for this problem. Define the range to be between 1 and 10 clusters.\n",
    "Run MiniBatch K-means on all the clusters. You can use list comprehension.\n",
    "Fit each model on the scaled data and obtain the scores from the scaled data.\n",
    "Plot the cluster numbers and their respective scores."
   ]
  },
  {
   "cell_type": "code",
   "execution_count": 17,
   "id": "ddb7c5ac-6b1f-4faa-9fc4-8e65d88547a9",
   "metadata": {
    "tags": []
   },
   "outputs": [
    {
     "name": "stderr",
     "output_type": "stream",
     "text": [
      "/opt/software/lib/python3.10/site-packages/sklearn/cluster/_kmeans.py:1934: FutureWarning: The default value of `n_init` will change from 3 to 'auto' in 1.4. Set the value of `n_init` explicitly to suppress the warning\n",
      "  super()._check_params_vs_input(X, default_n_init=3)\n",
      "/opt/software/lib/python3.10/site-packages/sklearn/cluster/_kmeans.py:1934: FutureWarning: The default value of `n_init` will change from 3 to 'auto' in 1.4. Set the value of `n_init` explicitly to suppress the warning\n",
      "  super()._check_params_vs_input(X, default_n_init=3)\n",
      "/opt/software/lib/python3.10/site-packages/sklearn/cluster/_kmeans.py:1934: FutureWarning: The default value of `n_init` will change from 3 to 'auto' in 1.4. Set the value of `n_init` explicitly to suppress the warning\n",
      "  super()._check_params_vs_input(X, default_n_init=3)\n",
      "/opt/software/lib/python3.10/site-packages/sklearn/cluster/_kmeans.py:1934: FutureWarning: The default value of `n_init` will change from 3 to 'auto' in 1.4. Set the value of `n_init` explicitly to suppress the warning\n",
      "  super()._check_params_vs_input(X, default_n_init=3)\n",
      "/opt/software/lib/python3.10/site-packages/sklearn/cluster/_kmeans.py:1934: FutureWarning: The default value of `n_init` will change from 3 to 'auto' in 1.4. Set the value of `n_init` explicitly to suppress the warning\n",
      "  super()._check_params_vs_input(X, default_n_init=3)\n",
      "/opt/software/lib/python3.10/site-packages/sklearn/cluster/_kmeans.py:1934: FutureWarning: The default value of `n_init` will change from 3 to 'auto' in 1.4. Set the value of `n_init` explicitly to suppress the warning\n",
      "  super()._check_params_vs_input(X, default_n_init=3)\n",
      "/opt/software/lib/python3.10/site-packages/sklearn/cluster/_kmeans.py:1934: FutureWarning: The default value of `n_init` will change from 3 to 'auto' in 1.4. Set the value of `n_init` explicitly to suppress the warning\n",
      "  super()._check_params_vs_input(X, default_n_init=3)\n",
      "/opt/software/lib/python3.10/site-packages/sklearn/cluster/_kmeans.py:1934: FutureWarning: The default value of `n_init` will change from 3 to 'auto' in 1.4. Set the value of `n_init` explicitly to suppress the warning\n",
      "  super()._check_params_vs_input(X, default_n_init=3)\n",
      "/opt/software/lib/python3.10/site-packages/sklearn/cluster/_kmeans.py:1934: FutureWarning: The default value of `n_init` will change from 3 to 'auto' in 1.4. Set the value of `n_init` explicitly to suppress the warning\n",
      "  super()._check_params_vs_input(X, default_n_init=3)\n"
     ]
    }
   ],
   "source": [
    "# Define the range of clusters to try\n",
    "clustno = range(1, 10)\n",
    "\n",
    "# Run MiniBatch Kmeans over the number of clusters\n",
    "kmeans = [MiniBatchKMeans(n_clusters=i) for i in clustno]\n",
    "\n",
    "# Obtain the score for each model\n",
    "score = [kmeans[i].fit(X_scaled).score(X_scaled) for i in range(len(kmeans))]"
   ]
  },
  {
   "cell_type": "code",
   "execution_count": 18,
   "id": "04709d90-5ad9-4655-a61a-4a0312b30a69",
   "metadata": {
    "tags": []
   },
   "outputs": [
    {
     "data": {
      "image/png": "[encoded data removed]",
      "text/plain": [
       "<Figure size 640x480 with 1 Axes>"
      ]
     },
     "metadata": {},
     "output_type": "display_data"
    }
   ],
   "source": [
    "# Plot the models and their respective score  (picture Elbow curve in the exercise paper)\n",
    "fig, ax = plt.subplots()\n",
    "ax.plot(clustno, score)\n",
    "ax.set(xlabel='Number of Clusters', ylabel='Score', title='Elbow Curve')\n",
    "plt.show()"
   ]
  },
  {
   "cell_type": "markdown",
   "id": "444c2a32-32a7-4a67-8ff5-ca449b5a2f93",
   "metadata": {},
   "source": [
    "Detecting outliers\n",
    "\n",
    "Split the scaled data and labels y into a train and test set.\n",
    "Define the MiniBatch K-means model with 3 clusters, and fit to the training data.\n",
    "Get the cluster predictions from your test data and obtain the cluster centroids.\n",
    "Define the boundary between fraud and non fraud to be at 95% of distance distribution and higher.  (this last piece of code is given in the end of the exercise for those who haven't coded much.)"
   ]
  },
  {
   "cell_type": "code",
   "execution_count": 26,
   "id": "d15688b9-582a-47c7-b8f4-d6af71158f24",
   "metadata": {
    "tags": []
   },
   "outputs": [],
   "source": [
    "# Split the data into training and test set\n",
    "X_train, X_test, y_train, y_test = train_test_split(X_scaled, labels, test_size=0.3, random_state=0)\n",
    "\n",
    "# Define K-means model \n",
    "kmeans = MiniBatchKMeans(n_clusters=3,  n_init='auto', random_state=42).fit(X_train)\n",
    "\n",
    "# Obtain predictions  \n",
    "X_test_clusters = kmeans.predict(X_test)\n",
    "X_test_clusters_centers = kmeans.cluster_centers_\n",
    "\n",
    "# calculate distance from cluster centroid\n",
    "dist = [np.linalg.norm(x-y) for x, y in zip(X_test, X_test_clusters_centers[X_test_clusters])]\n",
    "\n",
    "# Create fraud predictions based on outliers on clusters \n",
    "km_y_pred = np.array(dist)\n",
    "km_y_pred[dist >= np.percentile(dist, 95)] = 1\n",
    "km_y_pred[dist < np.percentile(dist, 95)] = 0"
   ]
  },
  {
   "cell_type": "markdown",
   "id": "c8efb25e-8a20-4b7e-b8f6-1b2a2ec5be87",
   "metadata": {},
   "source": [
    "Confusion matrix\n",
    "\n",
    "First, create a confusion matrix from the test labels y_test and predicted labels km_y_pred."
   ]
  },
  {
   "cell_type": "code",
   "execution_count": 27,
   "id": "cb2689fc-f16c-4844-97d3-3d7f8e54d583",
   "metadata": {
    "tags": []
   },
   "outputs": [],
   "source": [
    "# Create a confusion matrix\n",
    "km_cm = confusion_matrix(y_test, km_y_pred)"
   ]
  },
  {
   "cell_type": "markdown",
   "id": "47c43c66-007b-487a-9e11-9d67e6ac061f",
   "metadata": {},
   "source": [
    "We can plot the confusion matrix with the following code. Call this function with both normalized and non-normalized data and plot the result. "
   ]
  },
  {
   "cell_type": "code",
   "execution_count": 28,
   "id": "eda77bca-b6ce-4dc5-9fa1-1119b6d7fff6",
   "metadata": {
    "tags": []
   },
   "outputs": [
    {
     "data": {
      "image/png": "[encoded data removed]",
      "text/plain": [
       "<Figure size 640x480 with 2 Axes>"
      ]
     },
     "metadata": {},
     "output_type": "display_data"
    }
   ],
   "source": [
    "disp = ConfusionMatrixDisplay(confusion_matrix=km_cm,\n",
    "                             display_labels=['Not Fraud', 'Fraud'])\n",
    "disp.plot(cmap='Blues')\n",
    "plt.xticks(rotation=45)\n",
    "plt.show()"
   ]
  },
  {
   "cell_type": "markdown",
   "id": "1538d37d-fefd-4ea7-8ff4-806bb4c28f94",
   "metadata": {},
   "source": [
    "Q: If you were to decrease the percentile used as a cutoff point in the previous exercise to 93% instead of 95%, what would that do to your prediction results?\n",
    "\n",
    "We compute Area Under the Receiver Operating Characteristic Curve 'roc_auc_score' from prediction scores km_y_pred.\n",
    "Q: What does this score tell us?"
   ]
  },
  {
   "cell_type": "markdown",
   "id": "e228804a-4a5a-407f-9979-4d94b11520c8",
   "metadata": {},
   "source": [
    "If we decrease the percentile to 93%, we lower the threshold for considering an instance as an outlier. So, more instances will be classified as fraud, as the distance from the cluster centroids needed to be considered an outlier becomes smaller. We see non fruad cases (from 2029 to 1988). \n",
    "A higher AUC-ROC score indicates better discrimination and a more accurate model in distinguishing between the positive and negative classes. Here, ROC changed from 0.81 to 0.82."
   ]
  },
  {
   "cell_type": "code",
   "execution_count": 30,
   "id": "2c837f60-edfb-452d-bcf1-11bd5a42f12a",
   "metadata": {
    "tags": []
   },
   "outputs": [
    {
     "data": {
      "text/plain": [
       "0.8109115999408585"
      ]
     },
     "execution_count": 30,
     "metadata": {},
     "output_type": "execute_result"
    }
   ],
   "source": [
    "# Obtain the ROC score\n",
    "roc_auc_score(y_test, km_y_pred)"
   ]
  },
  {
   "cell_type": "markdown",
   "id": "6f3fd781-ae53-4069-b42a-7acfc171a340",
   "metadata": {},
   "source": [
    "DBSCAN model\n",
    "\n",
    "K-means works well when the data is clustered in normal, round shapes. Small clusters can be an indication of fraud. We next try DBSCABN. This method might have several advantages compared to KMeans. We don't need to define the number of clusters beforehand. The algorithm finds core samples of high density and expands clusters from them. \n",
    "DBSCAN can handle non-convex data better than KMeans. It is computationally heavier then MiniBatch K-means.\n",
    "\n",
    "We try the following: We form clusters with DBScan and assume that the smallest clusters are fraud. We test our assumption using the labeled y_test data. "
   ]
  },
  {
   "cell_type": "markdown",
   "id": "a06935e6-5109-4f36-a291-d74320786f9b",
   "metadata": {},
   "source": [
    "Set the maximum distance between two samples to 0.9 and the minimum observations in the clusters to 10. Fit DBSCAN to scaled data X_scaled.\n",
    "Use 'labels_' method to get the assigned cluster label for each data point.\n",
    "Calculate the number of clusters. (this piece of code is in the end of the exercise). You can plot a histogram of the clusters. "
   ]
  },
  {
   "cell_type": "code",
   "execution_count": 32,
   "id": "11f7293b-0822-4550-a691-2990f888992a",
   "metadata": {
    "tags": []
   },
   "outputs": [],
   "source": [
    "# Initialize and fit the DBscan model\n",
    "db = DBSCAN(eps=0.9, min_samples=10, n_jobs=-1).fit(X_scaled)\n",
    "\n",
    "# Obtain the predicted labels and calculate number of clusters\n",
    "pred_labels = db.labels_\n",
    "n_clusters = len(set(pred_labels)) - (1 if -1 in labels else 0)\n"
   ]
  },
  {
   "cell_type": "code",
   "execution_count": 33,
   "id": "2f739a35-ea90-4790-b09b-be93f668d44b",
   "metadata": {
    "tags": []
   },
   "outputs": [
    {
     "name": "stdout",
     "output_type": "stream",
     "text": [
      "Estimated number of clusters: 23\n",
      "Homogeneity: 0.612\n",
      "Silhouette Coefficient: 0.713\n"
     ]
    },
    {
     "data": {
      "text/plain": [
       "(array([3450., 2769.,  293.,  220.,   69.,  134.,   76.,   89.,   40.,\n",
       "          49.]),\n",
       " array([-1. ,  1.2,  3.4,  5.6,  7.8, 10. , 12.2, 14.4, 16.6, 18.8, 21. ]),\n",
       " <BarContainer object of 10 artists>)"
      ]
     },
     "execution_count": 33,
     "metadata": {},
     "output_type": "execute_result"
    },
    {
     "data": {
      "image/png": "[encoded data removed]",
      "text/plain": [
       "<Figure size 640x480 with 1 Axes>"
      ]
     },
     "metadata": {},
     "output_type": "display_data"
    }
   ],
   "source": [
    "# Print performance metrics for DBscan\n",
    "print(f'Estimated number of clusters: {n_clusters}')\n",
    "print(f'Homogeneity: {homogeneity_score(labels, pred_labels):0.3f}')\n",
    "print(f'Silhouette Coefficient: {silhouette_score(X_scaled, pred_labels):0.3f}')\n",
    "\n",
    "# Print a histogram of the predicted labels. \n",
    "plt.hist(pred_labels)"
   ]
  },
  {
   "cell_type": "markdown",
   "id": "604457dc-2409-468d-8705-a285f0bda7a7",
   "metadata": {},
   "source": [
    "Q: What are the homgeneity score and the Silhouette coefficient?"
   ]
  },
  {
   "cell_type": "markdown",
   "id": "7a61b657-b6f3-43ad-a440-78a804699527",
   "metadata": {},
   "source": [
    "The homogeneity score measures the degree to which each cluster contains only members of a single clas where 0 indicates low homogeneity (clusters contain a mix of different classes) and 1 indicates high homogeneity (each cluster contains only instances of a single class)\n",
    "\n",
    "The Silhouette coefficient measures how similar an object is to its own cluster (cohesion) compared to other clusters (separation). It provides a measure of how well-separated clusters are and how appropriate the assignment of data points to clusters is. It ranges from -1 to 1, where a high value indicates well-defined clusters, a value near 0 suggests overlapping clusters, and negative values indicate that data points may have been assigned to the wrong cluster."
   ]
  },
  {
   "cell_type": "markdown",
   "id": "29d737e0-d934-4f71-a265-b8838a1529bb",
   "metadata": {},
   "source": [
    "Next, count observations in each cluster and take the 3 smallest clusters. Print the smallest clusters and their counts. \n",
    "You can use np.bincount and np-argsort. "
   ]
  },
  {
   "cell_type": "code",
   "execution_count": 34,
   "id": "779a1c99-0061-48cb-ba68-0c1eb39efb1a",
   "metadata": {
    "tags": []
   },
   "outputs": [
    {
     "name": "stdout",
     "output_type": "stream",
     "text": [
      "[3252  145 2714   55  174  119  122   98   54   15   76   15   43   25\n",
      "   51   47   42   15   25   20   19   10]\n"
     ]
    }
   ],
   "source": [
    "# Count observations in each cluster number\n",
    "counts = np.bincount(pred_labels[pred_labels >= 0])\n",
    "\n",
    "# Print the result\n",
    "print(counts)"
   ]
  },
  {
   "cell_type": "code",
   "execution_count": 35,
   "id": "0abd7819-65a4-4d9d-af5e-7f97cf4580de",
   "metadata": {
    "tags": []
   },
   "outputs": [],
   "source": [
    "# Sort the sample counts of the clusters and take the top 3 smallest clusters\n",
    "smallest_clusters = np.argsort(counts)[:3]"
   ]
  },
  {
   "cell_type": "code",
   "execution_count": 36,
   "id": "fd9f50a9-4d57-4ff4-8aa6-763afae2a2ab",
   "metadata": {
    "tags": []
   },
   "outputs": [
    {
     "name": "stdout",
     "output_type": "stream",
     "text": [
      "The smallest clusters are clusters: [21 17  9]\n"
     ]
    }
   ],
   "source": [
    "# Print the results \n",
    "print(f'The smallest clusters are clusters: {smallest_clusters}')"
   ]
  },
  {
   "cell_type": "code",
   "execution_count": 37,
   "id": "f257be57-9ca3-4a77-b989-166f241904a9",
   "metadata": {
    "tags": []
   },
   "outputs": [
    {
     "name": "stdout",
     "output_type": "stream",
     "text": [
      "Their counts are: [10 15 15]\n"
     ]
    }
   ],
   "source": [
    "# Print the counts of the smallest clusters only\n",
    "print(f'Their counts are: {counts[smallest_clusters]}')"
   ]
  },
  {
   "cell_type": "markdown",
   "id": "d658a3bd-1742-439c-b086-44648385226b",
   "metadata": {},
   "source": [
    "Create a dataframe of the predicted cluster numbers and fraud labels. You can call the columns  'clusternr' and 'fraud'. \n",
    "\n",
    "Then, add a third column in the dataframe, 'predicted_fraud'. We assume that the smallest clusters contain fradulent transactions. You can create  a condition flagging fraud for the smallest clusters  (you can use np.where and isin). This piece of code is in the end of the exercise. "
   ]
  },
  {
   "cell_type": "code",
   "execution_count": 38,
   "id": "f18da881-c500-4d58-b28b-4b5ed33bae0f",
   "metadata": {
    "tags": []
   },
   "outputs": [
    {
     "data": {
      "text/html": [
       "<div>\n",
       "<style scoped>\n",
       "    .dataframe tbody tr th:only-of-type {\n",
       "        vertical-align: middle;\n",
       "    }\n",
       "\n",
       "    .dataframe tbody tr th {\n",
       "        vertical-align: top;\n",
       "    }\n",
       "\n",
       "    .dataframe thead th {\n",
       "        text-align: right;\n",
       "    }\n",
       "</style>\n",
       "<table border=\"1\" class=\"dataframe\">\n",
       "  <thead>\n",
       "    <tr style=\"text-align: right;\">\n",
       "      <th></th>\n",
       "      <th>clusternr</th>\n",
       "      <th>fraud</th>\n",
       "      <th>predicted_fraud</th>\n",
       "    </tr>\n",
       "  </thead>\n",
       "  <tbody>\n",
       "    <tr>\n",
       "      <th>0</th>\n",
       "      <td>0</td>\n",
       "      <td>0</td>\n",
       "      <td>0</td>\n",
       "    </tr>\n",
       "    <tr>\n",
       "      <th>1</th>\n",
       "      <td>1</td>\n",
       "      <td>0</td>\n",
       "      <td>0</td>\n",
       "    </tr>\n",
       "    <tr>\n",
       "      <th>2</th>\n",
       "      <td>0</td>\n",
       "      <td>0</td>\n",
       "      <td>0</td>\n",
       "    </tr>\n",
       "    <tr>\n",
       "      <th>3</th>\n",
       "      <td>2</td>\n",
       "      <td>0</td>\n",
       "      <td>0</td>\n",
       "    </tr>\n",
       "    <tr>\n",
       "      <th>4</th>\n",
       "      <td>2</td>\n",
       "      <td>0</td>\n",
       "      <td>0</td>\n",
       "    </tr>\n",
       "  </tbody>\n",
       "</table>\n",
       "</div>"
      ],
      "text/plain": [
       "   clusternr  fraud  predicted_fraud\n",
       "0          0      0                0\n",
       "1          1      0                0\n",
       "2          0      0                0\n",
       "3          2      0                0\n",
       "4          2      0                0"
      ]
     },
     "execution_count": 38,
     "metadata": {},
     "output_type": "execute_result"
    }
   ],
   "source": [
    "# Create a dataframe of the predicted cluster numbers and fraud labels \n",
    "df = pd.DataFrame({'clusternr':pred_labels,'fraud':labels})\n",
    "\n",
    "# Create a condition flagging fraud for the smallest clusters \n",
    "df['predicted_fraud'] = np.where((df['clusternr'].isin([21, 17, 9])), 1 , 0)\n",
    "df.head()"
   ]
  },
  {
   "cell_type": "markdown",
   "id": "2cec97d6-3179-4fab-af21-70cbe4dc6e30",
   "metadata": {},
   "source": [
    "Run a crosstab on the results. Q: How would you analyse the result? Compare it with the result of MiniBatchKMeans."
   ]
  },
  {
   "cell_type": "code",
   "execution_count": 39,
   "id": "7baff10b-f6df-4075-bf22-f5e9d4a109cf",
   "metadata": {
    "tags": []
   },
   "outputs": [
    {
     "name": "stdout",
     "output_type": "stream",
     "text": [
      "Flagged Fraud     0   1\n",
      "Actual Fraud           \n",
      "0              6973  16\n",
      "1               176  24\n"
     ]
    }
   ],
   "source": [
    "# Run a crosstab on the results \n",
    "print(pd.crosstab(df['fraud'], df['predicted_fraud'], rownames=['Actual Fraud'], colnames=['Flagged Fraud']))"
   ]
  },
  {
   "cell_type": "markdown",
   "id": "62f1df93-50e3-4bc1-8b42-7f57f6791c73",
   "metadata": {},
   "source": [
    "Fraud cases are identified less precisely. however we have relatively low number of fraud cases in both cases. many more cases have made into the list of non fraud cases."
   ]
  },
  {
   "cell_type": "code",
   "execution_count": null,
   "id": "5b0872ab-52d0-45b7-a6cf-061d3e09f2f2",
   "metadata": {},
   "outputs": [],
   "source": []
  }
 ],
 "metadata": {
  "kernelspec": {
   "display_name": "Python 3",
   "language": "python",
   "name": "python3"
  },
  "language_info": {
   "codemirror_mode": {
    "name": "ipython",
    "version": 3
   },
   "file_extension": ".py",
   "mimetype": "text/x-python",
   "name": "python",
   "nbconvert_exporter": "python",
   "pygments_lexer": "ipython3",
   "version": "3.10.12"
  }
 },
 "nbformat": 4,
 "nbformat_minor": 5
}
